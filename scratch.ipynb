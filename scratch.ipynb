{
 "cells": [
  {
   "cell_type": "code",
   "execution_count": null,
   "metadata": {},
   "outputs": [],
   "source": []
  },
  {
   "cell_type": "code",
   "execution_count": null,
   "metadata": {},
   "outputs": [
    {
     "name": "stderr",
     "output_type": "stream",
     "text": [
      "/home/matt/miniconda3/envs/quantum/lib/python3.12/site-packages/tqdm/auto.py:21: TqdmWarning: IProgress not found. Please update jupyter and ipywidgets. See https://ipywidgets.readthedocs.io/en/stable/user_install.html\n",
      "  from .autonotebook import tqdm as notebook_tqdm\n"
     ]
    },
    {
     "name": "stdout",
     "output_type": "stream",
     "text": [
      "97.5\n",
      "880 882 882\n"
     ]
    }
   ],
   "source": [
    "import numpy as np\n",
    "import shutil\n",
    "import os\n",
    "import pandas as pd\n",
    "import seaborn as sns\n",
    "import matplotlib.pyplot as plt\n",
    "import numpy as np\n",
    "import dimod\n",
    "from choi import choi\n",
    "from chancellor import chancellor\n",
    "from nuesslein1 import nuesslein1\n",
    "import os\n",
    "from nuesslein2 import nuesslein2\n",
    "from solvers import sample_PT\n",
    "import utils\n",
    "\n",
    "options = {\n",
    "    'nuesslein1': nuesslein1,\n",
    "    'nuesslein2': nuesslein2,\n",
    "    'chancellor': chancellor,\n",
    "    'choi': choi\n",
    "}\n",
    "\n",
    "def convert(method: str, problem_path: str, output: str):\n",
    "    V, C, formula = utils.read_formula(problem_path)\n",
    "    method_func = options[method]\n",
    "    formulation = method_func(formula, V)\n",
    "    formulation.fillQ()\n",
    "    problem = dimod.BQM.from_qubo(formulation.Q)\n",
    "    problem.change_vartype('SPIN')\n",
    "    biases, (row_inds, col_inds, vals), const =\\\n",
    "        problem.to_numpy_vectors(sort_labels=True)\n",
    "    nzvals = np.count_nonzero(np.abs(vals) > 1e-10)\n",
    "    print(const)\n",
    "    print(nzvals, len(row_inds), len(col_inds))\n",
    "    with open(output, 'w') as out:\n",
    "        out.write(f'{problem.num_variables} '+\n",
    "                  f'{problem.num_variables} {nzvals}\\n')\n",
    "        for i, w in enumerate(biases):\n",
    "            out.write(f'{i} {w}\\n')\n",
    "        for i, j, w in zip(row_inds, col_inds, vals):\n",
    "            if abs(w) < 1e-10:\n",
    "                continue\n",
    "            out.write(f'{i} {j} {w}\\n')\n",
    "        \n",
    "    return problem, formula\n",
    "problem_path = os.environ['GSET']+\"/CUSTOM_SAT/cust-u50-212/cust-u50-02.cnf\"\n",
    "problem, formula = convert('nuesslein2', problem_path, 'cust-u50-02_n2.ising')\n",
    "args = {\n",
    "    \"num_sweeps\": 10000,\n",
    "    \"num_reads\": 50,\n",
    "    \"num_replicas\": -1,\n",
    "    \"min_temp\": 0.3,\n",
    "    \"max_temp\": 1.5,\n",
    "    \"update_strategy\": \"sequential\",\n",
    "    \"initialize_strategy\": \"random\",\n",
    "    \"init_energies\": -1,\n",
    "    \"recompute_energy\": 0,\n",
    "    \"sort_output_temps\": 0,\n",
    "    \"return_dataframe\": 1,\n",
    "    \"parallel\": 1,\n",
    "    \"use_pt\": 1,\n",
    "    \"send_background\": 0,\n",
    "    \"verbose\": 1,\n",
    "    \"get_part_fun\": 0,\n",
    "    \"beta0\": 0\n",
    "}\n",
    "# result = sample_PT(problem, **args)\n"
   ]
  },
  {
   "cell_type": "code",
   "execution_count": 4,
   "metadata": {},
   "outputs": [
    {
     "name": "stderr",
     "output_type": "stream",
     "text": [
      "8it [00:04,  1.96it/s]\n"
     ]
    }
   ],
   "source": [
    "from nuesslein2 import nuesslein2\n",
    "from pathlib import Path\n",
    "import os\n",
    "from tqdm import tqdm\n",
    "from utils import read_formula, check_solution\n",
    "n = [20, 50, 75, 100, 125, 150, 175, 200]\n",
    "m = [91, 218, 325, 430, 538, 645, 753, 860]\n",
    "basedir = os.environ['GSET'] + '/SATLIB_GRAPHS/uf{n}-{m}/uf{n}-0{i}.cnf'\n",
    "for n, m in tqdm(zip(n, m)):\n",
    "    for i in range(1,51):\n",
    "        test_problem = basedir.format(n=n, m=m, i=i)\n",
    "        newname = Path(test_problem).stem\n",
    "        n,_, clauses = read_formula(test_problem)\n",
    "        test = nuesslein2(clauses, n)\n",
    "        # print(test_problem)\n",
    "        # print(np.min([len(c) for c in clauses]))\n",
    "        test.fillQ()\n",
    "        test.write(f'cust_reduced_nusslein/{newname}.ising')"
   ]
  }
 ],
 "metadata": {
  "kernelspec": {
   "display_name": "torch",
   "language": "python",
   "name": "python3"
  },
  "language_info": {
   "codemirror_mode": {
    "name": "ipython",
    "version": 3
   },
   "file_extension": ".py",
   "mimetype": "text/x-python",
   "name": "python",
   "nbconvert_exporter": "python",
   "pygments_lexer": "ipython3",
   "version": "3.12.2"
  }
 },
 "nbformat": 4,
 "nbformat_minor": 2
}
